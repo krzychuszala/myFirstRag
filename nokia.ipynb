{
 "cells": [
  {
   "cell_type": "markdown",
   "metadata": {},
   "source": [
    "# Imports"
   ]
  },
  {
   "cell_type": "code",
   "execution_count": 6,
   "metadata": {},
   "outputs": [
    {
     "name": "stderr",
     "output_type": "stream",
     "text": [
      "[nltk_data] Downloading package stopwords to\n",
      "[nltk_data]     /home/krzychu12/nltk_data...\n",
      "[nltk_data]   Unzipping corpora/stopwords.zip.\n"
     ]
    },
    {
     "data": {
      "text/plain": [
       "True"
      ]
     },
     "execution_count": 6,
     "metadata": {},
     "output_type": "execute_result"
    }
   ],
   "source": [
    "nltk.download('stopwords')"
   ]
  },
  {
   "cell_type": "code",
   "execution_count": 9,
   "metadata": {},
   "outputs": [
    {
     "name": "stderr",
     "output_type": "stream",
     "text": [
      "[nltk_data] Downloading package wordnet to\n",
      "[nltk_data]     /home/krzychu12/nltk_data...\n"
     ]
    },
    {
     "data": {
      "text/plain": [
       "True"
      ]
     },
     "execution_count": 9,
     "metadata": {},
     "output_type": "execute_result"
    }
   ],
   "source": [
    "nltk.download('wordnet')"
   ]
  },
  {
   "cell_type": "code",
   "execution_count": 9,
   "metadata": {},
   "outputs": [
    {
     "data": {
      "text/html": [
       "<div>\n",
       "<style scoped>\n",
       "    .dataframe tbody tr th:only-of-type {\n",
       "        vertical-align: middle;\n",
       "    }\n",
       "\n",
       "    .dataframe tbody tr th {\n",
       "        vertical-align: top;\n",
       "    }\n",
       "\n",
       "    .dataframe thead th {\n",
       "        text-align: right;\n",
       "    }\n",
       "</style>\n",
       "<table border=\"1\" class=\"dataframe\">\n",
       "  <thead>\n",
       "    <tr style=\"text-align: right;\">\n",
       "      <th></th>\n",
       "      <th>Title</th>\n",
       "      <th>Text</th>\n",
       "    </tr>\n",
       "  </thead>\n",
       "  <tbody>\n",
       "    <tr>\n",
       "      <th>0</th>\n",
       "      <td>A Beginner’s Guide to Word Embedding with Gens...</td>\n",
       "      <td>1. Introduction of Word2vec\\n\\nWord2vec is one...</td>\n",
       "    </tr>\n",
       "    <tr>\n",
       "      <th>1</th>\n",
       "      <td>Hands-on Graph Neural Networks with PyTorch &amp; ...</td>\n",
       "      <td>In my last article, I introduced the concept o...</td>\n",
       "    </tr>\n",
       "    <tr>\n",
       "      <th>2</th>\n",
       "      <td>How to Use ggplot2 in Python</td>\n",
       "      <td>Introduction\\n\\nThanks to its strict implement...</td>\n",
       "    </tr>\n",
       "    <tr>\n",
       "      <th>3</th>\n",
       "      <td>Databricks: How to Save Data Frames as CSV Fil...</td>\n",
       "      <td>Photo credit to Mika Baumeister from Unsplash\\...</td>\n",
       "    </tr>\n",
       "    <tr>\n",
       "      <th>4</th>\n",
       "      <td>A Step-by-Step Implementation of Gradient Desc...</td>\n",
       "      <td>A Step-by-Step Implementation of Gradient Desc...</td>\n",
       "    </tr>\n",
       "  </tbody>\n",
       "</table>\n",
       "</div>"
      ],
      "text/plain": [
       "                                               Title  \\\n",
       "0  A Beginner’s Guide to Word Embedding with Gens...   \n",
       "1  Hands-on Graph Neural Networks with PyTorch & ...   \n",
       "2                       How to Use ggplot2 in Python   \n",
       "3  Databricks: How to Save Data Frames as CSV Fil...   \n",
       "4  A Step-by-Step Implementation of Gradient Desc...   \n",
       "\n",
       "                                                Text  \n",
       "0  1. Introduction of Word2vec\\n\\nWord2vec is one...  \n",
       "1  In my last article, I introduced the concept o...  \n",
       "2  Introduction\\n\\nThanks to its strict implement...  \n",
       "3  Photo credit to Mika Baumeister from Unsplash\\...  \n",
       "4  A Step-by-Step Implementation of Gradient Desc...  "
      ]
     },
     "execution_count": 9,
     "metadata": {},
     "output_type": "execute_result"
    }
   ],
   "source": [
    "import pandas as pd\n",
    "import nltk\n",
    "import matplotlib.pyplot as plt\n",
    "from nltk.tokenize import word_tokenize\n",
    "from nltk.corpus import stopwords\n",
    "from sklearn.feature_extraction.text import TfidfVectorizer\n",
    "from sklearn.metrics.pairwise import cosine_similarity\n",
    "\n",
    "data = pd.read_csv('medium.csv')\n",
    "data.head()"
   ]
  },
  {
   "cell_type": "code",
   "execution_count": 2,
   "metadata": {},
   "outputs": [
    {
     "data": {
      "text/plain": [
       "(1391, 2)"
      ]
     },
     "execution_count": 2,
     "metadata": {},
     "output_type": "execute_result"
    }
   ],
   "source": [
    "data.shape"
   ]
  },
  {
   "cell_type": "code",
   "execution_count": 2,
   "metadata": {},
   "outputs": [
    {
     "data": {
      "image/png": "[encoded data removed]",
      "text/plain": [
       "<Figure size 640x480 with 1 Axes>"
      ]
     },
     "metadata": {},
     "output_type": "display_data"
    }
   ],
   "source": [
    "text_length = data['Text'].str.len()\n",
    "\n",
    "plt.hist(text_length, bins=30)\n",
    "plt.xlabel('Text Length')\n",
    "plt.ylabel('Frequency')\n",
    "plt.title('Distribution of Text Length')\n",
    "plt.show()"
   ]
  },
  {
   "cell_type": "code",
   "execution_count": 4,
   "metadata": {},
   "outputs": [
    {
     "data": {
      "image/png": "[encoded data removed]",
      "text/plain": [
       "<Figure size 640x480 with 1 Axes>"
      ]
     },
     "metadata": {},
     "output_type": "display_data"
    }
   ],
   "source": [
    "text_length = data['Title'].str.len()\n",
    "\n",
    "plt.hist(text_length, bins=30)\n",
    "plt.xlabel('Text Length')\n",
    "plt.ylabel('Frequency')\n",
    "plt.title('Distribution of Text Length')\n",
    "plt.show()"
   ]
  },
  {
   "cell_type": "markdown",
   "metadata": {},
   "source": [
    "# Preprocessing"
   ]
  },
  {
   "cell_type": "code",
   "execution_count": 10,
   "metadata": {},
   "outputs": [
    {
     "name": "stderr",
     "output_type": "stream",
     "text": [
      "/tmp/ipykernel_1660/1214099289.py:39: SettingWithCopyWarning: \n",
      "A value is trying to be set on a copy of a slice from a DataFrame.\n",
      "Try using .loc[row_indexer,col_indexer] = value instead\n",
      "\n",
      "See the caveats in the documentation: https://pandas.pydata.org/pandas-docs/stable/user_guide/indexing.html#returning-a-view-versus-a-copy\n",
      "  chunk['preprocessed_text'] = chunk['Text'].apply(preprocess_text)\n"
     ]
    }
   ],
   "source": [
    "from nltk.stem import WordNetLemmatizer\n",
    "stop_words = set(stopwords.words('english'))\n",
    "\n",
    "def preprocess_text(text):  \n",
    "    tokens = word_tokenize(text.lower())\n",
    "    tokens = [lemmatizer.lemmatize(token) for token in tokens]\n",
    "    tokens = [token for token in tokens if token.isalpha() and token not in stop_words]\n",
    "    return ' '.join(tokens)\n",
    "\n",
    "lemmatizer = WordNetLemmatizer()\n",
    "\n",
    "data['preprocessed_text'] = data['Text'].apply(preprocess_text)"
   ]
  },
  {
   "cell_type": "code",
   "execution_count": 11,
   "metadata": {},
   "outputs": [],
   "source": [
    "vectorizer = TfidfVectorizer()\n",
    "tfidf_matrix = vectorizer.fit_transform(data['preprocessed_text'])"
   ]
  },
  {
   "cell_type": "markdown",
   "metadata": {},
   "source": [
    "# Retrieval"
   ]
  },
  {
   "cell_type": "code",
   "execution_count": 12,
   "metadata": {},
   "outputs": [],
   "source": [
    "def retrieve_fragments(query, num_fragments=5): # indexing strategy\n",
    "    query_vector = vectorizer.transform([preprocess_text(query)])\n",
    "    similarity_scores = cosine_similarity(query_vector, tfidf_matrix)[0]\n",
    "    top_indices = similarity_scores.argsort()[-num_fragments:][::-1]\n",
    "    return data.loc[top_indices, 'Text'].tolist()"
   ]
  },
  {
   "cell_type": "code",
   "execution_count": 13,
   "metadata": {},
   "outputs": [
    {
     "name": "stdout",
     "output_type": "stream",
     "text": [
      "5\n",
      "By the end of the article you will be able to answer the following questions:\n",
      "\n",
      "What is machine learning?\n",
      "\n",
      "Why is machine learning so hot right now?\n",
      "\n",
      "What is driving performance?\n",
      "\n",
      "What are the challenges?\n",
      "\n",
      "What’s going on in machine learning and energy today?\n",
      "\n",
      "What might the future of energy and mach\n",
      "------------------------------------------\n",
      "The demand for machine learning systems has soared over the past few years. This is majorly due to the success of Machine Learning techniques in a wide range of applications. AutoML is fundamentally changing the face of ML-based solutions today by enabling people from diverse backgrounds to use mach\n",
      "------------------------------------------\n",
      "Should you buy the book?\n",
      "\n",
      "Yes. But you don’t have to. You can read it first. But you should buy a copy, hold it, read it, sit it on your coffee table. Then when your friends ask, ‘What is machine learning?’, you’ll be able to tell them.\n",
      "\n",
      "Who is the book for?\n",
      "\n",
      "Maybe you’re studying data science. Or y\n",
      "------------------------------------------\n",
      "Click below to see the previous article using machine learning for bitcoin prices:\n",
      "\n",
      "Not too long ago, we delved into the usage of Machine Learning models to predict the future prices of Bitcoin. There we used two time series models to forecast the direction in which the price of Bitcoin may go in th\n",
      "------------------------------------------\n",
      "Photo by fabio on Unsplash\n",
      "\n",
      "I am sure by now you must have heard about this term, and if surprisingly not, just have a look at the presentations by Apple or Google; even McDonald’s is doing something. In fact not only them, if you were to look at the Google Trends page for Machine Learning, you’ll n\n",
      "------------------------------------------\n"
     ]
    }
   ],
   "source": [
    "query = \"machine learning\"\n",
    "fragments = retrieve_fragments(query)\n",
    "print(len(fragments))\n",
    "for fragment in fragments:\n",
    "    print(fragment[:300])\n",
    "    print(\"------------------------------------------\")"
   ]
  },
  {
   "cell_type": "markdown",
   "metadata": {},
   "source": [
    "# System Design Report\n",
    "\n",
    "## Introduction\n",
    "This report discusses the design of the system implemented in the Jupyter Notebook. The system utilizes various technologies and packages to perform data analysis and natural language processing tasks. The report also highlights the challenges encountered during the development process and suggests potential areas for future development.\n",
    "\n",
    "## System Overview\n",
    "The system consists of multiple cells in the Jupyter Notebook, each containing code blocks and markdown cells. The code blocks are executed independently, and the results are displayed in the output. The system utilizes the following technologies and packages:\n",
    "\n",
    "- Pandas: Used for data manipulation and analysis.\n",
    "- NLTK: Used for natural language processing tasks such as tokenization and stopwords removal.\n",
    "- Scikit-learn: Used for machine learning and text retrieval tasks.\n",
    "- Matplotlib: Used for data visualization.\n",
    "- Jupyter Notebook: Used as the development environment.\n",
    "\n",
    "## Design Decisions\n",
    "The design of the system was based on the requirements of the tasks at hand. The use of Pandas was chosen for its powerful data manipulation capabilities, allowing easy handling of tabular data. NLTK was selected for its comprehensive set of natural language processing tools. Scikit-learn was chosen for its machine learning algorithms and text retrieval capabilities. Matplotlib was selected for its flexibility in creating visualizations. Jupyter Notebook was chosen as the development environment due to its interactive and collaborative features.\n",
    "\n",
    "## Challenges Encountered\n",
    "During the development process, several challenges were encountered. Some of the major challenges include:\n",
    "\n",
    "- Data Preprocessing: Preprocessing the text data required careful handling of tokenization, stopwords removal, and other text cleaning tasks. Ensuring the accuracy and efficiency of these preprocessing steps was a challenge.\n",
    "- Algorithm Selection: Choosing the appropriate machine learning algorithms and text retrieval techniques required a thorough understanding of the problem domain and the available options. Evaluating the performance of different algorithms was also a challenge.\n",
    "- Visualization: Creating meaningful and informative visualizations required careful selection of the appropriate chart types and customization options. Ensuring the clarity and accuracy of the visualizations was a challenge.\n",
    "- The most challenging was of course chunking text in some meaningful way\n",
    "\n",
    "## Future Development\n",
    "There are several potential areas for future development and improvement of the system. Some of the key areas include:\n",
    "- further education in context of chunking methods and deeper data exploration\n",
    "\n",
    "## Conclusions\n",
    "The system implemented in the Jupyter Notebook provides a powerful platform for data analysis and natural language processing tasks. The use of Pandas, NLTK, Scikit-learn, and Matplotlib enables efficient data manipulation, text processing, machine learning, and visualization. Despite the challenges encountered during development, the system offers a solid foundation for future development and improvement. By addressing the suggested areas for future development, the system can be further enhanced to meet evolving requirements and deliver more advanced functionality."
   ]
  }
 ],
 "metadata": {
  "kernelspec": {
   "display_name": "nlp_env",
   "language": "python",
   "name": "python3"
  },
  "language_info": {
   "codemirror_mode": {
    "name": "ipython",
    "version": 3
   },
   "file_extension": ".py",
   "mimetype": "text/x-python",
   "name": "python",
   "nbconvert_exporter": "python",
   "pygments_lexer": "ipython3",
   "version": "3.11.7"
  }
 },
 "nbformat": 4,
 "nbformat_minor": 2
}
